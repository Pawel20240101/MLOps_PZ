{
 "cells": [
  {
   "cell_type": "code",
   "execution_count": null,
   "id": "b015542c",
   "metadata": {},
   "outputs": [],
   "source": [
    "# Import bibliotek\n",
    "import pandas as pd\n",
    "from sklearn.model_selection import train_test_split\n",
    "from sklearn.preprocessing import LabelEncoder\n",
    "import os"
   ]
  },
  {
   "cell_type": "code",
   "execution_count": null,
   "id": "11f55b9c",
   "metadata": {},
   "outputs": [],
   "source": [
    "# Wczytanie danych \n",
    "df = pd.read_csv(\"../data/heart_2020_cleaned.csv\")"
   ]
  },
  {
   "cell_type": "code",
   "execution_count": null,
   "id": "5b660094",
   "metadata": {},
   "outputs": [],
   "source": [
    "# Przypisanie y (target)\n",
    "y = df[\"HeartDisease\"]"
   ]
  },
  {
   "cell_type": "code",
   "execution_count": null,
   "id": "0f44ddce",
   "metadata": {},
   "outputs": [],
   "source": [
    "# usunięcie kolumny HeartDisease (cechy)\n",
    "X = df.drop(columns=[\"HeartDisease\"])"
   ]
  },
  {
   "cell_type": "code",
   "execution_count": null,
   "id": "360c5018",
   "metadata": {},
   "outputs": [],
   "source": [
    "# Podział na zbiory treningowe i testowe\n",
    "os.makedirs(\"../data/processed\", exist_ok=True)\n",
    "X_train, X_test, y_train, y_test = train_test_split(X, y, test_size=0.2, random_state=42)\n",
    "\n",
    "X_train[\"HeartDisease\"] = y_train\n",
    "X_test[\"HeartDisease\"] = y_test\n",
    "\n",
    "X_train.to_csv(\"../data/processed/heart_train.csv\", index=False)\n",
    "X_test.to_csv(\"../data/processed/heart_test.csv\", index=False)\n"
   ]
  },
  {
   "cell_type": "code",
   "execution_count": null,
   "id": "48b72d37",
   "metadata": {},
   "outputs": [],
   "source": [
    "# Wyświetlenie rozmiarów zbiorów\n",
    "print(\"Rozmiar zbioru treningowego:\", X_train.shape)\n",
    "print(\"Rozmiar zbioru testowego:\", X_test.shape)"
   ]
  }
 ],
 "metadata": {
  "kernelspec": {
   "display_name": ".venv",
   "language": "python",
   "name": "python3"
  },
  "language_info": {
   "codemirror_mode": {
    "name": "ipython",
    "version": 3
   },
   "file_extension": ".py",
   "mimetype": "text/x-python",
   "name": "python",
   "nbconvert_exporter": "python",
   "pygments_lexer": "ipython3",
   "version": "3.11.9"
  }
 },
 "nbformat": 4,
 "nbformat_minor": 5
}

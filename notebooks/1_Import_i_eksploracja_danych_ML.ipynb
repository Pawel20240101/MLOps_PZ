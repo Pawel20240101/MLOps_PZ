{
 "cells": [
  {
   "cell_type": "code",
   "execution_count": null,
   "id": "e3bf5f5e",
   "metadata": {},
   "outputs": [],
   "source": [
    "# import bibliotek\n",
    "import os\n",
    "from pathlib import Path\n",
    "from kaggle.api.kaggle_api_extended import KaggleApi\n",
    "import zipfile\n",
    "import pandas as pd\n",
    "import numpy as np\n",
    "import matplotlib.pyplot as plt\n",
    "import seaborn as sns"
   ]
  },
  {
   "cell_type": "code",
   "execution_count": null,
   "id": "317123da",
   "metadata": {},
   "outputs": [],
   "source": [
    "# Pobieramy dane z wybranej rywalizacji\n",
    "container_check = os.getenv(\"iscontainer\")\n",
    "if container_check==\"y\":\n",
    "    config_dir = Path(\"/home/vscode/.config/kaggle\")\n",
    "    config_dir.mkdir(parents=True, exist_ok=True)\n",
    "    with open(config_dir / \"kaggle.json\", \"w\") as dst:\n",
    "        with open(\"./kaggle.json\", \"r\") as src:\n",
    "            dst.write(src.read())\n"
   ]
  },
  {
   "cell_type": "code",
   "execution_count": null,
   "id": "caacbddf",
   "metadata": {},
   "outputs": [],
   "source": [
    "# test czy Kaggle działa\n",
    "api = KaggleApi()\n",
    "api.authenticate()\n",
    "\n",
    "# Poprawny sposób: bez limitu w funkcji\n",
    "competitions = api.competitions_list()\n",
    "\n",
    "# Wyświetlamy tylko 5 pierwszych ręcznie\n",
    "for competition in competitions[:5]:\n",
    "    print(competition.ref)\n"
   ]
  },
  {
   "cell_type": "code",
   "execution_count": null,
   "id": "ebd411ce",
   "metadata": {},
   "outputs": [],
   "source": [
    "# Autoryzacja\n",
    "api = KaggleApi()\n",
    "api.authenticate()\n",
    "\n",
    "# Dataset\n",
    "dataset = \"kamilpytlak/personal-key-indicators-of-heart-disease\"\n",
    "download_folder = Path(\"../data\")  # <-- UWAGA: idziemy 1 katalog wyżej (z notebooka)\n",
    "\n",
    "# Upewnij się, że katalog 'data' istnieje\n",
    "download_folder.mkdir(parents=True, exist_ok=True)\n",
    "\n",
    "# Plik do pobrania\n",
    "file_name = \"2020/heart_2020_cleaned.csv\"\n",
    "\n",
    "# Pobranie tylko jednego pliku\n",
    "api.dataset_download_file(dataset, file_name, path=str(download_folder))\n",
    "\n",
    "# Ścieżka do pobranego pliku zip\n",
    "zip_path = download_folder / \"heart_2020_cleaned.csv.zip\"\n",
    "\n",
    "# Rozpakowanie pliku zip\n",
    "with zipfile.ZipFile(zip_path, \"r\") as zip_ref:\n",
    "    zip_ref.extractall(str(download_folder))\n",
    "\n",
    "# Usunięcie pliku zip po rozpakowaniu\n",
    "os.remove(zip_path)\n"
   ]
  },
  {
   "cell_type": "code",
   "execution_count": null,
   "id": "e32d9db3",
   "metadata": {},
   "outputs": [],
   "source": [
    "!dir \"../data\"\n"
   ]
  },
  {
   "cell_type": "code",
   "execution_count": null,
   "id": "b5e4fe23",
   "metadata": {},
   "outputs": [],
   "source": [
    "#  Wczytanie danych\n",
    "path = \"../data/heart_2020_cleaned.csv\"\n",
    "df = pd.read_csv(path)"
   ]
  },
  {
   "cell_type": "code",
   "execution_count": null,
   "id": "5a1a97fe",
   "metadata": {},
   "outputs": [],
   "source": [
    "# Sprawdzenie danych w zakresie ilości \"zawałów\" serca\n",
    "df[\"HeartDisease\"].value_counts()"
   ]
  },
  {
   "cell_type": "code",
   "execution_count": null,
   "id": "c7873509",
   "metadata": {},
   "outputs": [],
   "source": [
    "# Wyświetlwnie pierwszych 5 wierszy\n",
    "print(\"Pierwsze 5 wierszy danych:\")\n",
    "print(df.head())"
   ]
  },
  {
   "cell_type": "code",
   "execution_count": null,
   "id": "ccd27196",
   "metadata": {},
   "outputs": [],
   "source": [
    "# Informacje o zbiorze danych\n",
    "print(\"Informacje o zbiorze danych:\")\n",
    "print(df.info())"
   ]
  },
  {
   "cell_type": "code",
   "execution_count": null,
   "id": "cebe6c73",
   "metadata": {},
   "outputs": [],
   "source": [
    "# Statystyki opisowe\n",
    "\n",
    "print(\"\\n\\u2794 Statystyki opisowe:\")\n",
    "print(df.describe())\n",
    "\n",
    "# znacznik strzałki \"\\n\\u2794 \""
   ]
  },
  {
   "cell_type": "code",
   "execution_count": null,
   "id": "cf324eb9",
   "metadata": {},
   "outputs": [],
   "source": [
    "# Sprawdzenie brakujących danych\n",
    "print(\"Sprawdzenie brakujących danych:\")\n",
    "print(df.isnull().sum())"
   ]
  },
  {
   "cell_type": "code",
   "execution_count": null,
   "id": "839a8612",
   "metadata": {},
   "outputs": [],
   "source": [
    "# Rozkład zmiennych\n",
    "# Wykres rozkładu dla zmiennej docelowej (target)\n",
    "os.makedirs(\"../eksploracja\", exist_ok=True)\n",
    "sns.countplot(data=df, x=\"HeartDisease\")\n",
    "plt.title(\"Rozkład zmiennej docelowej - Heart Disease\")\n",
    "#plt.savefig(\"../eksploracja/Rozklad_zmiennej_docelowej.png\", dpi=300, bbox_inches='tight')\n",
    "plt.savefig(\"../eksploracja/Rozklad_zmiennej_docelowej.png\")\n",
    "plt.show()\n"
   ]
  },
  {
   "cell_type": "code",
   "execution_count": null,
   "id": "681c5c8c",
   "metadata": {},
   "outputs": [],
   "source": [
    "# Macierz korelacji dla zmiennych numerycznych\n",
    "os.makedirs(\"../eksploracja\", exist_ok=True)\n",
    "plt.figure(figsize=(12,8))\n",
    "sns.heatmap(df.corr(numeric_only=True), annot=True, cmap=\"coolwarm\")\n",
    "plt.title(\"Macierz korelacji zmiennych numerycznych\")\n",
    "plt.savefig(\"../eksploracja/Macierz_korelacji.png\")\n",
    "plt.show()"
   ]
  },
  {
   "cell_type": "code",
   "execution_count": null,
   "id": "4ea0375b",
   "metadata": {},
   "outputs": [],
   "source": [
    "# Lista unikalnych wartości dla zmiennych kategorycznych\n",
    "print(\"Unikalne wartości w zmiennych kategorycznych:\")\n",
    "for col in df.select_dtypes(include='object').columns:\n",
    "    print(f\"{col}: {df[col].unique()}\")"
   ]
  },
  {
   "cell_type": "code",
   "execution_count": null,
   "id": "3bcae2f2",
   "metadata": {},
   "outputs": [],
   "source": [
    "# Wykresy słupkowe dla zmiennych kategorycznych\n",
    "\n",
    "os.makedirs(\"../eksploracja\", exist_ok=True)\n",
    "categorical_cols = df.select_dtypes(include='object').columns\n",
    "\n",
    "for col in categorical_cols:\n",
    "    plt.figure(figsize=(8, 4))\n",
    "    sns.countplot(data=df, x=col, order=df[col].value_counts().index)\n",
    "    plt.title(f\"Rozkład zmiennej: {col}\")\n",
    "    plt.xticks(rotation=45)\n",
    "    plt.tight_layout()\n",
    "    plt.savefig(f\"../eksploracja/{col}.png\")\n",
    "    plt.show()"
   ]
  },
  {
   "cell_type": "code",
   "execution_count": null,
   "id": "b7194cdf",
   "metadata": {},
   "outputs": [],
   "source": [
    "# Tabele kontyngencji względem HeartDisease\n",
    "for col in categorical_cols:\n",
    "    print(f\"\\nTabela krzyżowa: {col} vs HeartDisease\")\n",
    "    print(pd.crosstab(df[col], df[\"HeartDisease\"], normalize='index') * 100)"
   ]
  },
  {
   "cell_type": "code",
   "execution_count": null,
   "id": "84c138af",
   "metadata": {},
   "outputs": [],
   "source": [
    "# Wczytanie danych\n",
    "#df = pd.read_csv(\"ścieżka/do/heart_2020_cleaned.csv\")  # <-- podmień na własną ścieżkę, np. \"../data/heart_2020_cleaned.csv\"\n",
    "\n",
    "# Statystyki opisowe dla danych liczbowych\n",
    "print(\"Statystyki opisowe danych liczbowych:\")\n",
    "print(df.describe())\n",
    "\n",
    "# Statystyki opisowe dla danych kategorycznych\n",
    "print(\"\\nStatystyki opisowe danych kategorycznych:\")\n",
    "print(df.describe(include=[\"object\"]))\n"
   ]
  },
  {
   "cell_type": "code",
   "execution_count": null,
   "id": "b3e52e7e",
   "metadata": {},
   "outputs": [],
   "source": [
    "# Wizualizacja: Rozkład wartości BMI\n",
    "os.makedirs(\"../eksploracja\", exist_ok=True)\n",
    "plt.figure(figsize=(10, 6))\n",
    "sns.histplot(df['BMI'], kde=True)\n",
    "plt.title('Rozkład wartości BMI')\n",
    "plt.xlabel('BMI')\n",
    "plt.ylabel('Liczba osób')\n",
    "plt.grid(True)\n",
    "plt.savefig(\"../Rozkład_wartości_BMI.png\")\n",
    "plt.show()"
   ]
  },
  {
   "cell_type": "code",
   "execution_count": null,
   "id": "7a3db255",
   "metadata": {},
   "outputs": [],
   "source": [
    "# Wizualizacja: Choroba serca względem kategorii wiekowej\n",
    "\n",
    "os.makedirs(\"../eksploracja\", exist_ok=True)\n",
    "plt.figure(figsize=(14, 6))\n",
    "sns.countplot(data=df, x='AgeCategory', hue='HeartDisease')\n",
    "plt.title('Występowanie choroby serca w zależności od wieku')\n",
    "plt.xlabel('Kategoria wiekowa')\n",
    "plt.ylabel('Liczba przypadków')\n",
    "plt.xticks(rotation=45)\n",
    "plt.grid(True)\n",
    "plt.savefig(\"../eksploracja/Występowanie_choroby_serca_w_zależności_od_wieku.png\")  \n",
    "plt.show()"
   ]
  },
  {
   "cell_type": "code",
   "execution_count": null,
   "id": "060f7bd5",
   "metadata": {},
   "outputs": [],
   "source": [
    "# Spanie\n",
    "os.makedirs(\"../eksploracja\", exist_ok=True)\n",
    "plt.figure(figsize=(10, 6))\n",
    "sns.histplot(df['SleepTime'], kde=True)\n",
    "plt.title('Rozkład godzin snu')\n",
    "plt.xlabel('Liczba godzin snu')\n",
    "plt.ylabel('Liczba osób')\n",
    "plt.grid(True)\n",
    "plt.savefig(\"../eksploracja/Rozkład_godzin_snu.png\")    \n",
    "plt.show()"
   ]
  },
  {
   "cell_type": "code",
   "execution_count": null,
   "id": "8b6b49bc",
   "metadata": {},
   "outputs": [],
   "source": [
    "# Cukrzyca\n",
    "os.makedirs(\"../eksploracja\", exist_ok=True)\n",
    "plt.figure(figsize=(8, 6))\n",
    "sns.countplot(data=df, x='Diabetic')\n",
    "plt.title('Występowanie cukrzycy')\n",
    "plt.xlabel('Czy osoba choruje na cukrzycę?')\n",
    "plt.ylabel('Liczba osób')\n",
    "plt.grid(True)\n",
    "plt.savefig(\"../eksploracja/Występowanie_cukrzycy.png\")\n",
    "plt.show()"
   ]
  },
  {
   "cell_type": "code",
   "execution_count": null,
   "id": "7b42a28e",
   "metadata": {},
   "outputs": [],
   "source": [
    "# Wizualizacja: Zdrowie ogólne vs choroby serca\n",
    "os.makedirs(\"../eksploracja\", exist_ok=True)\n",
    "plt.figure(figsize=(12, 6))\n",
    "sns.countplot(data=df, x='GenHealth', hue='HeartDisease')\n",
    "plt.title('GenHealth a występowanie choroby serca')\n",
    "plt.xlabel('Ocena ogólnego zdrowia')\n",
    "plt.ylabel('Liczba osób')\n",
    "plt.grid(True)\n",
    "plt.savefig(\"../eksploracja/GenHealth_a_występowanie_choroby_serca.png\")\n",
    "plt.show()"
   ]
  },
  {
   "cell_type": "code",
   "execution_count": null,
   "id": "356a93e3",
   "metadata": {},
   "outputs": [],
   "source": [
    "# Wizualizacja: Palenie względem chorób serca\n",
    "os.makedirs(\"../eksploracja\", exist_ok=True)\n",
    "plt.figure(figsize=(8, 6))\n",
    "sns.countplot(data=df, x='Smoking', hue='HeartDisease')\n",
    "plt.title('Palenie tytoniu a występowanie choroby serca')\n",
    "plt.xlabel('Czy osoba pali papierosy?')\n",
    "plt.ylabel('Liczba osób')\n",
    "plt.grid(True)\n",
    "plt.savefig(\"../eksploracja/Palenie_tytoniu_a_występowanie_choroby_serca.png\")\n",
    "plt.show()"
   ]
  },
  {
   "cell_type": "code",
   "execution_count": null,
   "id": "39715289",
   "metadata": {},
   "outputs": [],
   "source": [
    "# Podsumowanie\n",
    "print(\"Eksploracja danych zakończona.\")"
   ]
  }
 ],
 "metadata": {
  "kernelspec": {
   "display_name": ".venv",
   "language": "python",
   "name": "python3"
  },
  "language_info": {
   "codemirror_mode": {
    "name": "ipython",
    "version": 3
   },
   "file_extension": ".py",
   "mimetype": "text/x-python",
   "name": "python",
   "nbconvert_exporter": "python",
   "pygments_lexer": "ipython3",
   "version": "3.11.9"
  }
 },
 "nbformat": 4,
 "nbformat_minor": 5
}
